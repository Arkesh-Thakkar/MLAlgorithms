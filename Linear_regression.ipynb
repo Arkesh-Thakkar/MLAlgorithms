{
  "nbformat": 4,
  "nbformat_minor": 0,
  "metadata": {
    "colab": {
      "name": "OSFY_Linear_regression.ipynb",
      "provenance": []
    },
    "kernelspec": {
      "name": "python3",
      "display_name": "Python 3"
    }
  },
  "cells": [
    {
      "cell_type": "markdown",
      "metadata": {
        "id": "aozRH63qAGpY",
        "colab_type": "text"
      },
      "source": [
        "Let’s form a linearly scattered data to perform linear regression:"
      ]
    },
    {
      "cell_type": "code",
      "metadata": {
        "id": "pjK8hTtNAQWG",
        "colab_type": "code",
        "colab": {}
      },
      "source": [
        "from statistics import mean\n",
        "import numpy as np\n",
        "import matplotlib.pyplot as plt\n",
        "from matplotlib import style\n",
        "\n",
        "x = np.array([1,2,3,4,5,6],dtype = np.float64)\n",
        "y = np.array([10,8,6,5,3,4],dtype = np.float64)"
      ],
      "execution_count": 0,
      "outputs": []
    },
    {
      "cell_type": "markdown",
      "metadata": {
        "id": "mLQM5gPZAfSU",
        "colab_type": "text"
      },
      "source": [
        "Obtaining the slope and intercept for the best fit line for above data"
      ]
    },
    {
      "cell_type": "code",
      "metadata": {
        "id": "qNOE4efQAVkO",
        "colab_type": "code",
        "colab": {
          "base_uri": "https://localhost:8080/",
          "height": 52
        },
        "outputId": "57541c9f-ee04-4892-e1f4-5c53a56a0c21"
      },
      "source": [
        "def best_fit_slope_and_intercept(x,y):\n",
        "  m = ( ((mean(x)*mean(y)) - mean(x*y)) /\n",
        "       (np.square(mean(x)) - np.mean(np.square(x))) )\n",
        "  \n",
        "  c = mean(y) - m * mean(x)\n",
        "  return m , c \n",
        "  \n",
        "m , c = best_fit_slope_and_intercept(x,y)\n",
        "print(m)\n",
        "print(c)"
      ],
      "execution_count": 2,
      "outputs": [
        {
          "output_type": "stream",
          "text": [
            "-1.314285714285714\n",
            "10.6\n"
          ],
          "name": "stdout"
        }
      ]
    },
    {
      "cell_type": "markdown",
      "metadata": {
        "id": "MZLmuo4ZBxvq",
        "colab_type": "text"
      },
      "source": [
        "Defining the regression line, predicting the new data and visualizing the data points, regression line, and the new data."
      ]
    },
    {
      "cell_type": "code",
      "metadata": {
        "id": "-QspRUD_BHj7",
        "colab_type": "code",
        "colab": {
          "base_uri": "https://localhost:8080/",
          "height": 282
        },
        "outputId": "6e552877-80c2-467a-9482-7eaa5d5d1122"
      },
      "source": [
        "regression_line = [(m*i)+c for i in x]\n",
        "\n",
        "predict_x = 4.5\n",
        "\n",
        "predict_y = (m*predict_x) + c\n",
        "\n",
        "style.use('fivethirtyeight')\n",
        "\n",
        "plt.scatter(x,y)\n",
        "plt.scatter(predict_x,predict_y,color='g',s=150)\n",
        "plt.plot(x,regression_line)\n",
        "plt.show()"
      ],
      "execution_count": 3,
      "outputs": [
        {
          "output_type": "display_data",
          "data": {
            "image/png": "[encoded data removed]",
            "text/plain": [
              "<Figure size 432x288 with 1 Axes>"
            ]
          },
          "metadata": {
            "tags": []
          }
        }
      ]
    },
    {
      "cell_type": "markdown",
      "metadata": {
        "id": "EtQZL2iZB9js",
        "colab_type": "text"
      },
      "source": [
        "Calculating the accuracy with squared error\n"
      ]
    },
    {
      "cell_type": "markdown",
      "metadata": {
        "id": "mDK-99IACIKb",
        "colab_type": "text"
      },
      "source": [
        "r2 = 1 - (SE y / SE mean(y)), where SE is Squared Error"
      ]
    },
    {
      "cell_type": "code",
      "metadata": {
        "id": "TkytXToAB4Yw",
        "colab_type": "code",
        "colab": {
          "base_uri": "https://localhost:8080/",
          "height": 34
        },
        "outputId": "33c81f84-aa79-4a6e-a6e9-8553ab9f9c47"
      },
      "source": [
        "def squared_error(y_points,y_line):\n",
        "  return sum(np.square(y_points-y_line))\n",
        "\n",
        "def coefficient_of_determination(y_points,y_line):\n",
        "  y_mean_points = [mean(y_points) for y in y_points]\n",
        "  squared_error_regr = squared_error(y_points,y_line)\n",
        "  square_error_y_mean = squared_error(y_points,y_mean_points)\n",
        "  return 1 - (squared_error_regr/square_error_y_mean)\n",
        "\n",
        "r_squared =  coefficient_of_determination(y,regression_line)\n",
        "\n",
        "print(r_squared)"
      ],
      "execution_count": 4,
      "outputs": [
        {
          "output_type": "stream",
          "text": [
            "0.8890756302521008\n"
          ],
          "name": "stdout"
        }
      ]
    },
    {
      "cell_type": "code",
      "metadata": {
        "id": "cF-e1dN2CLSv",
        "colab_type": "code",
        "colab": {}
      },
      "source": [
        ""
      ],
      "execution_count": 0,
      "outputs": []
    }
  ]
}
