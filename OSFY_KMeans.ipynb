{
  "nbformat": 4,
  "nbformat_minor": 0,
  "metadata": {
    "colab": {
      "name": "OSFY_KMeans.ipynb",
      "provenance": []
    },
    "kernelspec": {
      "name": "python3",
      "display_name": "Python 3"
    }
  },
  "cells": [
    {
      "cell_type": "markdown",
      "metadata": {
        "id": "MS677sADJGYL",
        "colab_type": "text"
      },
      "source": [
        "First we create our manual dataset on which we will perform k means algorithm:"
      ]
    },
    {
      "cell_type": "code",
      "metadata": {
        "id": "Pj7tq3SlJIAe",
        "colab_type": "code",
        "colab": {}
      },
      "source": [
        "from matplotlib import style\n",
        "import matplotlib.pyplot as plt\n",
        "style.use('ggplot')\n",
        "import numpy as np\n",
        "X = np.array([[1,7],\n",
        "              [2,1],\n",
        "              [7,8],\n",
        "              [12,10],\n",
        "              [2,2],\n",
        "              [8,11],\n",
        "              [4,1],\n",
        "              [10,12],\n",
        "              [1,4],\n",
        "              [4,4],\n",
        "              [8,8]])"
      ],
      "execution_count": 0,
      "outputs": []
    },
    {
      "cell_type": "markdown",
      "metadata": {
        "id": "X92uY5nfJbUR",
        "colab_type": "text"
      },
      "source": [
        "Defining our own class:"
      ]
    },
    {
      "cell_type": "code",
      "metadata": {
        "id": "9xdDwPWiJLc9",
        "colab_type": "code",
        "colab": {}
      },
      "source": [
        "class K_Means:\n",
        "  def __init__(self,k=2,tol=0.001,max_iter=300):\n",
        "    self.k = k\n",
        "    self.tol = tol\n",
        "    self.max_iter = max_iter\n",
        "\n",
        "  def fit(self,data):\n",
        "\n",
        "    self.centroids = {}\n",
        "\n",
        "    #initially considering first k elements of data as centroids\n",
        "    for i in range(self.k):\n",
        "      self.centroids[i] = data[i]\n",
        "\n",
        "    #beniginning of optimization process\n",
        "    for i in range(self.max_iter):\n",
        "      self.classifications = {} #It contains the centroids as key and features from as the value to which centroid it belongs to\n",
        "\n",
        "      for i in range(self.k):\n",
        "        self.classifications[i] = [] #initially creating emplty lists for the centroids as key\n",
        "\n",
        "      #Now populating the above empty list\n",
        "      for featureset in data:\n",
        "        distances = [np.linalg.norm(featureset - self.centroids[centroid]) for centroid in self.centroids] #It creates list with distance of every features with every centroids\n",
        "        classification = distances.index(min(distances))\n",
        "        self.classifications[classification].append(featureset)\n",
        "\n",
        "      #storing previous centroids so that we can compare change in new centroid to compare it to tolarence value\n",
        "      prev_centroids = dict(self.centroids)\n",
        "\n",
        "      #Defining new centroids\n",
        "      for classification in self.classifications:\n",
        "        self.centroids[classification] = np.average(self.classifications[classification],axis=0) #Taking the average of all the features of classification and then redefining the centroids\n",
        "\n",
        "      optimized = True\n",
        "\n",
        "      for c in self.centroids:\n",
        "        original_centroid = prev_centroids[c]\n",
        "        current_centroid = self.centroids[c]\n",
        "\n",
        "        #now comparing centroids\n",
        "        if np.sum((current_centroid-original_centroid)/original_centroid*100.0) > self.tol:\n",
        "          optimized = False\n",
        "\n",
        "      #Now if optimized break the entire for loop else continue running it\n",
        "      if optimized:\n",
        "        break\n",
        "      \n",
        "\n",
        "  def predict(self,data):\n",
        "    distances = [np.linalg.norm(data - self.centroids[centroid]) for centroid in self.centroids] #It creates list with distance of every features with every centroids\n",
        "    classification = distances.index(min(distances))\n",
        "    return classification"
      ],
      "execution_count": 0,
      "outputs": []
    },
    {
      "cell_type": "markdown",
      "metadata": {
        "id": "YiHkXkXJJlxo",
        "colab_type": "text"
      },
      "source": [
        "Now training and visualizing our data with the centroids:"
      ]
    },
    {
      "cell_type": "code",
      "metadata": {
        "id": "4SJRh4ghJhcb",
        "colab_type": "code",
        "colab": {
          "base_uri": "https://localhost:8080/",
          "height": 320
        },
        "outputId": "0488ca2d-13cb-4e3d-ce17-32ef51146c28"
      },
      "source": [
        "clf = K_Means()\n",
        "\n",
        "colors = 10*[\"g\",\"r\",\"c\",\"b\",\"k\"]\n",
        "\n",
        "#Now train\n",
        "clf.fit(X)\n",
        "fig = plt.figure(figsize=(7,5))\n",
        "for centroid in clf.centroids:\n",
        "  plt.scatter(clf.centroids[centroid][0],clf.centroids[centroid][1],marker=\"o\",color=\"k\",s=150,linewidths=5)\n",
        "\n",
        "for classification in clf.classifications:\n",
        "  color = colors[classification]\n",
        "  for featureset in clf.classifications[classification]:\n",
        "    plt.scatter(featureset[0],featureset[1],marker=\"x\",color=color,s=150,linewidths=5)\n",
        "\n",
        "plt.show()\n",
        "fig.savefig('KMeans.jpg', bbox_inches='tight', dpi=150)"
      ],
      "execution_count": 5,
      "outputs": [
        {
          "output_type": "display_data",
          "data": {
            "image/png": "[encoded data removed]",
            "text/plain": [
              "<Figure size 504x360 with 1 Axes>"
            ]
          },
          "metadata": {
            "tags": []
          }
        }
      ]
    },
    {
      "cell_type": "markdown",
      "metadata": {
        "id": "ZkCbvbVMKF2Q",
        "colab_type": "text"
      },
      "source": [
        "## **Applying the algorithm on sklearn's breast cancer dataset**"
      ]
    },
    {
      "cell_type": "code",
      "metadata": {
        "id": "ufoTXJZCJwl0",
        "colab_type": "code",
        "colab": {}
      },
      "source": [
        "from sklearn.datasets import load_breast_cancer\n",
        "import pandas as pd\n",
        "import numpy as np\n",
        "import random\n",
        "from sklearn import preprocessing\n",
        "\n",
        "#Loading the data and forming the dataframe\n",
        "cancer = load_breast_cancer()\n",
        "df = pd.DataFrame(np.c_[cancer['data'], cancer['target']],\n",
        "                  columns= np.append(cancer['feature_names'], ['target']))"
      ],
      "execution_count": 0,
      "outputs": []
    },
    {
      "cell_type": "code",
      "metadata": {
        "id": "HYHU9EErKJUL",
        "colab_type": "code",
        "colab": {
          "base_uri": "https://localhost:8080/",
          "height": 259
        },
        "outputId": "860dac14-e7af-4c21-e879-81c74a13870f"
      },
      "source": [
        "print(df)"
      ],
      "execution_count": 7,
      "outputs": [
        {
          "output_type": "stream",
          "text": [
            "     mean radius  mean texture  ...  worst fractal dimension  target\n",
            "0          17.99         10.38  ...                  0.11890     0.0\n",
            "1          20.57         17.77  ...                  0.08902     0.0\n",
            "2          19.69         21.25  ...                  0.08758     0.0\n",
            "3          11.42         20.38  ...                  0.17300     0.0\n",
            "4          20.29         14.34  ...                  0.07678     0.0\n",
            "..           ...           ...  ...                      ...     ...\n",
            "564        21.56         22.39  ...                  0.07115     0.0\n",
            "565        20.13         28.25  ...                  0.06637     0.0\n",
            "566        16.60         28.08  ...                  0.07820     0.0\n",
            "567        20.60         29.33  ...                  0.12400     0.0\n",
            "568         7.76         24.54  ...                  0.07039     1.0\n",
            "\n",
            "[569 rows x 31 columns]\n"
          ],
          "name": "stdout"
        }
      ]
    },
    {
      "cell_type": "code",
      "metadata": {
        "id": "CRLDH9o5KLhf",
        "colab_type": "code",
        "colab": {}
      },
      "source": [
        "#defining the features and the labels\n",
        "X = np.array(df.drop(['target'],1))\n",
        "y = np.array(df['target'])"
      ],
      "execution_count": 0,
      "outputs": []
    },
    {
      "cell_type": "code",
      "metadata": {
        "id": "SdAb4XK_KQzj",
        "colab_type": "code",
        "colab": {
          "base_uri": "https://localhost:8080/",
          "height": 34
        },
        "outputId": "7343a33f-d1ac-44e0-f561-4602d0bf6288"
      },
      "source": [
        "clf = K_Means(k=2)\n",
        "clf.fit(X)\n",
        "\n",
        "correct = 0\n",
        "for i in range(len(X)):\n",
        "  predict = np.array(X[i].astype(float))\n",
        "  predict = predict.reshape(-1,len(predict))\n",
        "  prediction = clf.predict(predict)\n",
        "  \n",
        "  if prediction == y[i]:\n",
        "    correct += 1\n",
        "\n",
        "\n",
        "print('Accuracy:',correct/len(X))"
      ],
      "execution_count": 10,
      "outputs": [
        {
          "output_type": "stream",
          "text": [
            "Accuracy: 0.7697715289982425\n"
          ],
          "name": "stdout"
        }
      ]
    },
    {
      "cell_type": "code",
      "metadata": {
        "id": "EHlzy_UBKTkD",
        "colab_type": "code",
        "colab": {}
      },
      "source": [
        ""
      ],
      "execution_count": 0,
      "outputs": []
    }
  ]
}