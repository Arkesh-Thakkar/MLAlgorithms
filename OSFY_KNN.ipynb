{
  "nbformat": 4,
  "nbformat_minor": 0,
  "metadata": {
    "colab": {
      "name": "OSFY_KNN.ipynb",
      "provenance": []
    },
    "kernelspec": {
      "name": "python3",
      "display_name": "Python 3"
    }
  },
  "cells": [
    {
      "cell_type": "markdown",
      "metadata": {
        "id": "MHm-VbzVDLb4",
        "colab_type": "text"
      },
      "source": [
        "KNN works on euclidean distance. Lets see the implementation of euclidean distance"
      ]
    },
    {
      "cell_type": "code",
      "metadata": {
        "id": "D42CSe8gDRJw",
        "colab_type": "code",
        "colab": {
          "base_uri": "https://localhost:8080/",
          "height": 34
        },
        "outputId": "ccf83879-b9b9-43a7-ddb1-505053a8c959"
      },
      "source": [
        "from math import sqrt\n",
        "\n",
        "#Creating the data points\n",
        "point1 = [2,4]\n",
        "point2 = [4,7]\n",
        "\n",
        "#euclidean distance = sqrt(summation_till_dimensions((q - p)^2))\n",
        "\n",
        "#Example for two dimension\n",
        "euclidean_distance = sqrt((point1[0] - point2[0]) ** 2 + (point1[1] - point2[1]) ** 2)\n",
        "print(euclidean_distance)"
      ],
      "execution_count": 1,
      "outputs": [
        {
          "output_type": "stream",
          "text": [
            "3.605551275463989\n"
          ],
          "name": "stdout"
        }
      ]
    },
    {
      "cell_type": "markdown",
      "metadata": {
        "id": "s9ibYVRlDwXx",
        "colab_type": "text"
      },
      "source": [
        "**KNN Algorithm**"
      ]
    },
    {
      "cell_type": "markdown",
      "metadata": {
        "id": "P_XU0drgEHFS",
        "colab_type": "text"
      },
      "source": [
        "Creating manual dataset to perform knn:"
      ]
    },
    {
      "cell_type": "code",
      "metadata": {
        "id": "alK5XLqpDumx",
        "colab_type": "code",
        "colab": {}
      },
      "source": [
        "import numpy as np\n",
        "from math import sqrt\n",
        "from matplotlib import style\n",
        "import matplotlib.pyplot as plt\n",
        "from collections import Counter\n",
        "import warnings\n",
        "style.use('fivethirtyeight')\n",
        "\n",
        "dataset = {'g':[[1,2],[2,3],[3,1]], 'b': [[6,5],[7,7],[8,6]]}"
      ],
      "execution_count": 0,
      "outputs": []
    },
    {
      "cell_type": "markdown",
      "metadata": {
        "id": "ALshhUuPETJD",
        "colab_type": "text"
      },
      "source": [
        "Below is the KNN algorithm:\n",
        "Initially defining the empty list of distances and then populating it with Euclidean distance and group to which distance is found. Here euclidean distance is obtained more efficiently with NumPy as below."
      ]
    },
    {
      "cell_type": "code",
      "metadata": {
        "id": "rK6TFoMiEK_1",
        "colab_type": "code",
        "colab": {}
      },
      "source": [
        "def k_nearest_neighbors(data , predict, k=3):\n",
        "  distances = []\n",
        "  for group in data:\n",
        "    for features in data[group]:\n",
        "      euclidean_distance = np.linalg.norm(np.array(features) - np.array(predict))\n",
        "      distances.append([euclidean_distance,group])\n",
        "  \n",
        "  #Now getting the group in sorted order of distance for required k neighbors\n",
        "  groups = [i[1] for i in sorted(distances)[:k]]\n",
        "\n",
        "  #From the above groups picking the most common group\n",
        "  result_group_list = Counter(groups).most_common(1)[0]\n",
        "  result_group = result_group_list[0]\n",
        "  return result_group "
      ],
      "execution_count": 0,
      "outputs": []
    },
    {
      "cell_type": "markdown",
      "metadata": {
        "id": "LL_CUygXF5sb",
        "colab_type": "text"
      },
      "source": [
        "Defining our new feature for prediction"
      ]
    },
    {
      "cell_type": "code",
      "metadata": {
        "id": "VcoUzB4-Euyl",
        "colab_type": "code",
        "colab": {}
      },
      "source": [
        "new_features = [5,7]"
      ],
      "execution_count": 0,
      "outputs": []
    },
    {
      "cell_type": "markdown",
      "metadata": {
        "id": "dZCAGgd2GCBo",
        "colab_type": "text"
      },
      "source": [
        "Predicting the above-defined new feature with our algorithm and printing the predicted group"
      ]
    },
    {
      "cell_type": "code",
      "metadata": {
        "id": "agD-grKjF-bo",
        "colab_type": "code",
        "colab": {
          "base_uri": "https://localhost:8080/",
          "height": 34
        },
        "outputId": "38408edf-6bcf-49fb-fee2-f26de8367a68"
      },
      "source": [
        "results = k_nearest_neighbors(dataset , new_features, k=3)\n",
        "print(results)"
      ],
      "execution_count": 6,
      "outputs": [
        {
          "output_type": "stream",
          "text": [
            "b\n"
          ],
          "name": "stdout"
        }
      ]
    },
    {
      "cell_type": "markdown",
      "metadata": {
        "id": "TOAdwWqAGO-F",
        "colab_type": "text"
      },
      "source": [
        "Visualizing our predicted data with star (*) marker and the group color."
      ]
    },
    {
      "cell_type": "code",
      "metadata": {
        "id": "Cji096dUGHrP",
        "colab_type": "code",
        "colab": {
          "base_uri": "https://localhost:8080/",
          "height": 282
        },
        "outputId": "531c1ab3-c090-45b5-91a3-044ce2e7a250"
      },
      "source": [
        "[[plt.scatter(j[0],j[1], s =100, color =i) for j in dataset[i]] for i in dataset]\n",
        "plt.scatter(new_features[0],new_features[1],color = results,s =150,marker=\"*\")\n",
        "plt.show()"
      ],
      "execution_count": 7,
      "outputs": [
        {
          "output_type": "display_data",
          "data": {
            "image/png": "[encoded data removed]",
            "text/plain": [
              "<Figure size 432x288 with 1 Axes>"
            ]
          },
          "metadata": {
            "tags": []
          }
        }
      ]
    },
    {
      "cell_type": "markdown",
      "metadata": {
        "id": "1NNHVBJXGX3B",
        "colab_type": "text"
      },
      "source": [
        "## **Applying the algorithm on sklearn's breast cancer dataset**"
      ]
    },
    {
      "cell_type": "code",
      "metadata": {
        "id": "els-HlZuGSV9",
        "colab_type": "code",
        "colab": {}
      },
      "source": [
        "from sklearn.datasets import load_breast_cancer\n",
        "import pandas as pd\n",
        "import numpy as np\n",
        "import random\n",
        "from sklearn import preprocessing\n",
        "\n",
        "#Loading the data and forming the dataframe\n",
        "cancer = load_breast_cancer()\n",
        "df = pd.DataFrame(np.c_[cancer['data'], cancer['target']],\n",
        "                  columns= np.append(cancer['feature_names'], ['target']))"
      ],
      "execution_count": 0,
      "outputs": []
    },
    {
      "cell_type": "code",
      "metadata": {
        "id": "8ejtOfEsGxSL",
        "colab_type": "code",
        "colab": {
          "base_uri": "https://localhost:8080/",
          "height": 259
        },
        "outputId": "83e7d834-d1c8-4921-b74c-37a7a9638371"
      },
      "source": [
        "print(df)"
      ],
      "execution_count": 19,
      "outputs": [
        {
          "output_type": "stream",
          "text": [
            "     mean radius  mean texture  ...  worst fractal dimension  target\n",
            "0          17.99         10.38  ...                  0.11890     0.0\n",
            "1          20.57         17.77  ...                  0.08902     0.0\n",
            "2          19.69         21.25  ...                  0.08758     0.0\n",
            "3          11.42         20.38  ...                  0.17300     0.0\n",
            "4          20.29         14.34  ...                  0.07678     0.0\n",
            "..           ...           ...  ...                      ...     ...\n",
            "564        21.56         22.39  ...                  0.07115     0.0\n",
            "565        20.13         28.25  ...                  0.06637     0.0\n",
            "566        16.60         28.08  ...                  0.07820     0.0\n",
            "567        20.60         29.33  ...                  0.12400     0.0\n",
            "568         7.76         24.54  ...                  0.07039     1.0\n",
            "\n",
            "[569 rows x 31 columns]\n"
          ],
          "name": "stdout"
        }
      ]
    },
    {
      "cell_type": "markdown",
      "metadata": {
        "id": "h8KMr8l7Gs1F",
        "colab_type": "text"
      },
      "source": [
        "Above dataset specifies various specifications regarding breast cancer and their categories, i.e., 1.0 represents the benign and 0.0 represents the malignant tumor."
      ]
    },
    {
      "cell_type": "markdown",
      "metadata": {
        "id": "-VPodYI4G4bJ",
        "colab_type": "text"
      },
      "source": [
        "Applying the above KNN on the data"
      ]
    },
    {
      "cell_type": "code",
      "metadata": {
        "id": "bTmRP2ezGosM",
        "colab_type": "code",
        "colab": {
          "base_uri": "https://localhost:8080/",
          "height": 34
        },
        "outputId": "03f31717-86eb-449d-e008-b5e2655b1977"
      },
      "source": [
        "#converting everthing to float and to list because after shuffling the data integrity remains intact\n",
        "full_data = df.astype(float).values.tolist()\n",
        "\n",
        "#shuffling\n",
        "random.shuffle(full_data)\n",
        "\n",
        "#Train test split from scratch\n",
        "test_size = 0.2\n",
        "train_set = {0:[],1:[]}\n",
        "test_set = {0:[],1:[]}\n",
        "\n",
        "train_data = full_data[:-int(test_size*len(full_data)) ] #first 80% of data\n",
        "test_data = full_data[-int(test_size*len(full_data)): ] #Last 20% data\n",
        "\n",
        "#populating dictionary for knn function\n",
        "for i in train_data:\n",
        "  train_set[i[-1]].append(i[:-1]) #It will append the values to 0 if the type of cancer specified in train data in maline i.e. 0 else in 1\n",
        "\n",
        "for i in test_data:\n",
        "  test_set[i[-1]].append(i[:-1])\n",
        "\n",
        "\n",
        "#Now prdict will be from test set and data will be from train set in knn function\n",
        "correct = 0\n",
        "total =0\n",
        "for test in test_set:\n",
        "  for data in test_set[test]:\n",
        "    group = k_nearest_neighbors(train_set,data,k=5)\n",
        "    if test == group:\n",
        "      correct += 1\n",
        "    total+=1\n",
        "\n",
        "print('Accuracy:',correct/total)\n"
      ],
      "execution_count": 23,
      "outputs": [
        {
          "output_type": "stream",
          "text": [
            "Accuracy: 0.9292035398230089\n"
          ],
          "name": "stdout"
        }
      ]
    },
    {
      "cell_type": "code",
      "metadata": {
        "id": "ZvanF_GrG_L8",
        "colab_type": "code",
        "colab": {}
      },
      "source": [
        ""
      ],
      "execution_count": 0,
      "outputs": []
    }
  ]
}